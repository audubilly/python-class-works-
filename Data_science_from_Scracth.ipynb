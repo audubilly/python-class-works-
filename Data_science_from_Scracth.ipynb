{
  "nbformat": 4,
  "nbformat_minor": 0,
  "metadata": {
    "colab": {
      "name": "Data_science_from_Scracth.ipynb",
      "provenance": [],
      "authorship_tag": "ABX9TyPYybq2IEj+TXmQ97iajrdc",
      "include_colab_link": true
    },
    "kernelspec": {
      "name": "python3",
      "display_name": "Python 3"
    }
  },
  "cells": [
    {
      "cell_type": "markdown",
      "metadata": {
        "id": "view-in-github",
        "colab_type": "text"
      },
      "source": [
        "<a href=\"https://colab.research.google.com/github/audubilly/python-class-works-/blob/main/Data_science_from_Scracth.ipynb\" target=\"_parent\"><img src=\"https://colab.research.google.com/assets/colab-badge.svg\" alt=\"Open In Colab\"/></a>"
      ]
    },
    {
      "cell_type": "code",
      "metadata": {
        "id": "oqsbDnZ0mppZ"
      },
      "source": [
        "users = [\r\n",
        "{ \"id\": 0, \"name\": \"Hero\" },\r\n",
        "{ \"id\": 1, \"name\": \"Dunn\" },\r\n",
        "{ \"id\": 2, \"name\": \"Sue\" },\r\n",
        "{ \"id\": 3, \"name\": \"Chi\" },\r\n",
        "{ \"id\": 4, \"name\": \"Thor\" },\r\n",
        "{ \"id\": 5, \"name\": \"Clive\" },\r\n",
        "{ \"id\": 6, \"name\": \"Hicks\" },\r\n",
        "{ \"id\": 7, \"name\": \"Devin\" },\r\n",
        "{ \"id\": 8, \"name\": \"Kate\" },\r\n",
        "{ \"id\": 9, \"name\": \"Klein\" }\r\n",
        "]\r\n",
        "\r\n",
        "friendships = [(0, 1), (0, 2), (1, 2), (1, 3), (2, 3), (3, 4),\r\n",
        "(4, 5), (5, 6), (5, 7), (6, 8), (7, 8), (8, 9)]\r\n",
        "\r\n",
        "\r\n",
        "\r\n"
      ],
      "execution_count": 12,
      "outputs": []
    },
    {
      "cell_type": "code",
      "metadata": {
        "id": "iRDLL8QNoOmb"
      },
      "source": [
        "for user in users:\r\n",
        "   user[\"friends\"] = []\r\n",
        "\r\n",
        "   \r\n",
        "\r\n"
      ],
      "execution_count": 13,
      "outputs": []
    },
    {
      "cell_type": "code",
      "metadata": {
        "colab": {
          "base_uri": "https://localhost:8080/"
        },
        "id": "WyQJdS16uzuj",
        "outputId": "eddc8327-4cb0-4073-c279-b9975800098e"
      },
      "source": [
        "friendships"
      ],
      "execution_count": 14,
      "outputs": [
        {
          "output_type": "execute_result",
          "data": {
            "text/plain": [
              "[(0, 1),\n",
              " (0, 2),\n",
              " (1, 2),\n",
              " (1, 3),\n",
              " (2, 3),\n",
              " (3, 4),\n",
              " (4, 5),\n",
              " (5, 6),\n",
              " (5, 7),\n",
              " (6, 8),\n",
              " (7, 8),\n",
              " (8, 9)]"
            ]
          },
          "metadata": {
            "tags": []
          },
          "execution_count": 14
        }
      ]
    },
    {
      "cell_type": "code",
      "metadata": {
        "colab": {
          "base_uri": "https://localhost:8080/"
        },
        "id": "tvyNSh5E1yMl",
        "outputId": "e024bbbb-d24c-482d-e354-8c8e54f65597"
      },
      "source": [
        "users"
      ],
      "execution_count": 15,
      "outputs": [
        {
          "output_type": "execute_result",
          "data": {
            "text/plain": [
              "[{'friends': [], 'id': 0, 'name': 'Hero'},\n",
              " {'friends': [], 'id': 1, 'name': 'Dunn'},\n",
              " {'friends': [], 'id': 2, 'name': 'Sue'},\n",
              " {'friends': [], 'id': 3, 'name': 'Chi'},\n",
              " {'friends': [], 'id': 4, 'name': 'Thor'},\n",
              " {'friends': [], 'id': 5, 'name': 'Clive'},\n",
              " {'friends': [], 'id': 6, 'name': 'Hicks'},\n",
              " {'friends': [], 'id': 7, 'name': 'Devin'},\n",
              " {'friends': [], 'id': 8, 'name': 'Kate'},\n",
              " {'friends': [], 'id': 9, 'name': 'Klein'}]"
            ]
          },
          "metadata": {
            "tags": []
          },
          "execution_count": 15
        }
      ]
    },
    {
      "cell_type": "code",
      "metadata": {
        "id": "FBuHYFdovKQq"
      },
      "source": [
        "for i, j in friendships:\r\n",
        "     users[i][\"friends\"].append([j])\r\n",
        "     users[j][\"friends\"].append([i])"
      ],
      "execution_count": 16,
      "outputs": []
    },
    {
      "cell_type": "code",
      "metadata": {
        "colab": {
          "base_uri": "https://localhost:8080/"
        },
        "id": "OWmL4UPSqhXp",
        "outputId": "0cc35065-5017-4f18-c0e3-de6a8a992499"
      },
      "source": [
        "users"
      ],
      "execution_count": 17,
      "outputs": [
        {
          "output_type": "execute_result",
          "data": {
            "text/plain": [
              "[{'friends': [[1], [2]], 'id': 0, 'name': 'Hero'},\n",
              " {'friends': [[0], [2], [3]], 'id': 1, 'name': 'Dunn'},\n",
              " {'friends': [[0], [1], [3]], 'id': 2, 'name': 'Sue'},\n",
              " {'friends': [[1], [2], [4]], 'id': 3, 'name': 'Chi'},\n",
              " {'friends': [[3], [5]], 'id': 4, 'name': 'Thor'},\n",
              " {'friends': [[4], [6], [7]], 'id': 5, 'name': 'Clive'},\n",
              " {'friends': [[5], [8]], 'id': 6, 'name': 'Hicks'},\n",
              " {'friends': [[5], [8]], 'id': 7, 'name': 'Devin'},\n",
              " {'friends': [[6], [7], [9]], 'id': 8, 'name': 'Kate'},\n",
              " {'friends': [[8]], 'id': 9, 'name': 'Klein'}]"
            ]
          },
          "metadata": {
            "tags": []
          },
          "execution_count": 17
        }
      ]
    },
    {
      "cell_type": "code",
      "metadata": {
        "id": "ShtEczA_jWxP"
      },
      "source": [
        "def number_of_friends(user):\r\n",
        "    return len(user[\"friends\"])"
      ],
      "execution_count": 18,
      "outputs": []
    },
    {
      "cell_type": "code",
      "metadata": {
        "colab": {
          "base_uri": "https://localhost:8080/"
        },
        "id": "R-bTwksVjo5b",
        "outputId": "d9183b4a-ba2d-4a76-c6ea-f71a8471e646"
      },
      "source": [
        "# Normal List Loop\r\n",
        "num_list = []\r\n",
        "for user in users:\r\n",
        "  num_list.append(number_of_friends(user))\r\n",
        "print(sum(num_list)) \r\n",
        "print(num_list)"
      ],
      "execution_count": 27,
      "outputs": [
        {
          "output_type": "stream",
          "text": [
            "24\n",
            "[2, 3, 3, 3, 2, 3, 2, 2, 3, 1]\n"
          ],
          "name": "stdout"
        }
      ]
    },
    {
      "cell_type": "code",
      "metadata": {
        "colab": {
          "base_uri": "https://localhost:8080/"
        },
        "id": "LEVYh3sjlS7y",
        "outputId": "94c190a2-0b59-4ffe-cd24-cea4cd771450"
      },
      "source": [
        "#List Comprehension\r\n",
        "print(sum([number_of_friends(user) for user in users]))"
      ],
      "execution_count": 26,
      "outputs": [
        {
          "output_type": "stream",
          "text": [
            "24\n"
          ],
          "name": "stdout"
        }
      ]
    }
  ]
}
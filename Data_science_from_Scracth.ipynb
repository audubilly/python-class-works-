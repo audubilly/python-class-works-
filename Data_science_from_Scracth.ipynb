{
  "nbformat": 4,
  "nbformat_minor": 0,
  "metadata": {
    "colab": {
      "name": "Data_science_from_Scracth.ipynb",
      "provenance": [],
      "authorship_tag": "ABX9TyNmgumwPm2bZxrbtmDtsGdF",
      "include_colab_link": true
    },
    "kernelspec": {
      "name": "python3",
      "display_name": "Python 3"
    }
  },
  "cells": [
    {
      "cell_type": "markdown",
      "metadata": {
        "id": "view-in-github",
        "colab_type": "text"
      },
      "source": [
        "<a href=\"https://colab.research.google.com/github/audubilly/python-class-works-/blob/main/Data_science_from_Scracth.ipynb\" target=\"_parent\"><img src=\"https://colab.research.google.com/assets/colab-badge.svg\" alt=\"Open In Colab\"/></a>"
      ]
    },
    {
      "cell_type": "code",
      "metadata": {
        "id": "oqsbDnZ0mppZ"
      },
      "source": [
        "users = [\r\n",
        "{ \"id\": 0, \"name\": \"Hero\" },\r\n",
        "{ \"id\": 1, \"name\": \"Dunn\" },\r\n",
        "{ \"id\": 2, \"name\": \"Sue\" },\r\n",
        "{ \"id\": 3, \"name\": \"Chi\" },\r\n",
        "{ \"id\": 4, \"name\": \"Thor\" },\r\n",
        "{ \"id\": 5, \"name\": \"Clive\" },\r\n",
        "{ \"id\": 6, \"name\": \"Hicks\" },\r\n",
        "{ \"id\": 7, \"name\": \"Devin\" },\r\n",
        "{ \"id\": 8, \"name\": \"Kate\" },\r\n",
        "{ \"id\": 9, \"name\": \"Klein\" }\r\n",
        "]\r\n",
        "\r\n",
        "friendships = [(0, 1), (0, 2), (1, 2), (1, 3), (2, 3), (3, 4), (4, 5), (5, 6), (5, 7), (6, 8), (7, 8), (8, 9)]"
      ],
      "execution_count": 124,
      "outputs": []
    },
    {
      "cell_type": "code",
      "metadata": {
        "id": "iRDLL8QNoOmb",
        "colab": {
          "base_uri": "https://localhost:8080/"
        },
        "outputId": "16aa8c40-315c-4f93-b802-0a14b54816c2"
      },
      "source": [
        "for user in users:\r\n",
        "   user[\"friends\"] = []\r\n",
        "\r\n",
        "users"
      ],
      "execution_count": 125,
      "outputs": [
        {
          "output_type": "execute_result",
          "data": {
            "text/plain": [
              "[{'friends': [], 'id': 0, 'name': 'Hero'},\n",
              " {'friends': [], 'id': 1, 'name': 'Dunn'},\n",
              " {'friends': [], 'id': 2, 'name': 'Sue'},\n",
              " {'friends': [], 'id': 3, 'name': 'Chi'},\n",
              " {'friends': [], 'id': 4, 'name': 'Thor'},\n",
              " {'friends': [], 'id': 5, 'name': 'Clive'},\n",
              " {'friends': [], 'id': 6, 'name': 'Hicks'},\n",
              " {'friends': [], 'id': 7, 'name': 'Devin'},\n",
              " {'friends': [], 'id': 8, 'name': 'Kate'},\n",
              " {'friends': [], 'id': 9, 'name': 'Klein'}]"
            ]
          },
          "metadata": {
            "tags": []
          },
          "execution_count": 125
        }
      ]
    },
    {
      "cell_type": "code",
      "metadata": {
        "colab": {
          "base_uri": "https://localhost:8080/"
        },
        "id": "WyQJdS16uzuj",
        "outputId": "8001aa14-b264-4db6-9ee6-3d3b8ab4c8f6"
      },
      "source": [
        "friendships"
      ],
      "execution_count": 126,
      "outputs": [
        {
          "output_type": "execute_result",
          "data": {
            "text/plain": [
              "[(0, 1),\n",
              " (0, 2),\n",
              " (1, 2),\n",
              " (1, 3),\n",
              " (2, 3),\n",
              " (3, 4),\n",
              " (4, 5),\n",
              " (5, 6),\n",
              " (5, 7),\n",
              " (6, 8),\n",
              " (7, 8),\n",
              " (8, 9)]"
            ]
          },
          "metadata": {
            "tags": []
          },
          "execution_count": 126
        }
      ]
    },
    {
      "cell_type": "code",
      "metadata": {
        "id": "FBuHYFdovKQq"
      },
      "source": [
        "for i, j in friendships:\r\n",
        "  users[i][\"friends\"].append(j)\r\n",
        "  users[j][\"friends\"].append(i)"
      ],
      "execution_count": 128,
      "outputs": []
    },
    {
      "cell_type": "code",
      "metadata": {
        "colab": {
          "base_uri": "https://localhost:8080/"
        },
        "id": "OWmL4UPSqhXp",
        "outputId": "c99f49fc-de37-47dd-9504-8a5ee4e5b27f"
      },
      "source": [
        "users"
      ],
      "execution_count": 129,
      "outputs": [
        {
          "output_type": "execute_result",
          "data": {
            "text/plain": [
              "[{'friends': [1, 2], 'id': 0, 'name': 'Hero'},\n",
              " {'friends': [0, 2, 3], 'id': 1, 'name': 'Dunn'},\n",
              " {'friends': [0, 1, 3], 'id': 2, 'name': 'Sue'},\n",
              " {'friends': [1, 2, 4], 'id': 3, 'name': 'Chi'},\n",
              " {'friends': [3, 5], 'id': 4, 'name': 'Thor'},\n",
              " {'friends': [4, 6, 7], 'id': 5, 'name': 'Clive'},\n",
              " {'friends': [5, 8], 'id': 6, 'name': 'Hicks'},\n",
              " {'friends': [5, 8], 'id': 7, 'name': 'Devin'},\n",
              " {'friends': [6, 7, 9], 'id': 8, 'name': 'Kate'},\n",
              " {'friends': [8], 'id': 9, 'name': 'Klein'}]"
            ]
          },
          "metadata": {
            "tags": []
          },
          "execution_count": 129
        }
      ]
    },
    {
      "cell_type": "code",
      "metadata": {
        "id": "ShtEczA_jWxP"
      },
      "source": [
        "def number_of_friends(user):\r\n",
        "  return len(user[\"friends\"])"
      ],
      "execution_count": 135,
      "outputs": []
    },
    {
      "cell_type": "code",
      "metadata": {
        "colab": {
          "base_uri": "https://localhost:8080/"
        },
        "id": "22rVcbvXzNVp",
        "outputId": "e2fcc917-f871-4c9e-b863-51c61be5de88"
      },
      "source": [
        "sum"
      ],
      "execution_count": 141,
      "outputs": [
        {
          "output_type": "execute_result",
          "data": {
            "text/plain": [
              "24"
            ]
          },
          "metadata": {
            "tags": []
          },
          "execution_count": 141
        }
      ]
    },
    {
      "cell_type": "code",
      "metadata": {
        "id": "2jZtt3j1zQTx"
      },
      "source": [
        "del(sum)"
      ],
      "execution_count": 142,
      "outputs": []
    },
    {
      "cell_type": "code",
      "metadata": {
        "colab": {
          "base_uri": "https://localhost:8080/"
        },
        "id": "G0x0TAquzUAD",
        "outputId": "520a1a17-e0a3-42b7-ca71-e1169ff1ee2d"
      },
      "source": [
        "sum"
      ],
      "execution_count": 143,
      "outputs": [
        {
          "output_type": "execute_result",
          "data": {
            "text/plain": [
              "<function sum>"
            ]
          },
          "metadata": {
            "tags": []
          },
          "execution_count": 143
        }
      ]
    },
    {
      "cell_type": "code",
      "metadata": {
        "colab": {
          "base_uri": "https://localhost:8080/"
        },
        "id": "R-bTwksVjo5b",
        "outputId": "e1150465-56fa-4e66-9ec5-458dfd556ce1"
      },
      "source": [
        "# Normal List Loop\r\n",
        "num_list = []\r\n",
        "for user in users:\r\n",
        "  num_list.append(number_of_friends(user))\r\n",
        "\r\n",
        "print(sum(num_list))"
      ],
      "execution_count": 145,
      "outputs": [
        {
          "output_type": "stream",
          "text": [
            "24\n"
          ],
          "name": "stdout"
        }
      ]
    },
    {
      "cell_type": "code",
      "metadata": {
        "id": "LEVYh3sjlS7y",
        "colab": {
          "base_uri": "https://localhost:8080/"
        },
        "outputId": "f82c8dc2-ef44-4147-c669-f2e7878b7306"
      },
      "source": [
        "#List Comprehension\r\n",
        "print(sum([number_of_friends(user) for user in users]))"
      ],
      "execution_count": 146,
      "outputs": [
        {
          "output_type": "stream",
          "text": [
            "24\n"
          ],
          "name": "stdout"
        }
      ]
    },
    {
      "cell_type": "code",
      "metadata": {
        "id": "Dkm3fh6LoW_U",
        "colab": {
          "base_uri": "https://localhost:8080/"
        },
        "outputId": "1f48685f-4b7a-4a2e-f217-70850f6d5e6a"
      },
      "source": [
        "num_of_users = len(users)\r\n",
        "print(num_of_users)\r\n"
      ],
      "execution_count": 147,
      "outputs": [
        {
          "output_type": "stream",
          "text": [
            "10\n"
          ],
          "name": "stdout"
        }
      ]
    },
    {
      "cell_type": "code",
      "metadata": {
        "colab": {
          "base_uri": "https://localhost:8080/"
        },
        "id": "s91E8fUGzrXf",
        "outputId": "40b3a8b7-d170-4027-b1cc-5e7ca074ee7d"
      },
      "source": [
        "average = (sum(num_list))/num_of_users\r\n",
        "print(average)"
      ],
      "execution_count": 150,
      "outputs": [
        {
          "output_type": "stream",
          "text": [
            "2.4\n"
          ],
          "name": "stdout"
        }
      ]
    }
  ]
}